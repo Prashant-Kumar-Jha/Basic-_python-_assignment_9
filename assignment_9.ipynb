{
 "cells": [
  {
   "cell_type": "code",
   "execution_count": null,
   "metadata": {},
   "outputs": [],
   "source": [
    "Q1 - To what does a relative path refer?\n",
    "\n",
    "ans - Relative paths are relative to the current working directory."
   ]
  },
  {
   "cell_type": "code",
   "execution_count": null,
   "metadata": {},
   "outputs": [],
   "source": [
    "Q2 - What is the first step on an absolute path?\n",
    "\n",
    "ans - Absolute paths start with the root folder, such as / or C:\\."
   ]
  },
  {
   "cell_type": "code",
   "execution_count": null,
   "metadata": {},
   "outputs": [],
   "source": [
    "Q3-On Windows, what does Path('C:/Users') / 'Al' evaluate to?\n",
    " \n",
    "ans - "
   ]
  },
  {
   "cell_type": "code",
   "execution_count": null,
   "metadata": {},
   "outputs": [],
   "source": [
    "Q4  - On Windows, what does 'C:/Users' / 'Al' evaluate to? "
   ]
  },
  {
   "cell_type": "code",
   "execution_count": null,
   "metadata": {},
   "outputs": [],
   "source": [
    "Q5 -What do the functions os.getcwd() and os.chdir() do?\n",
    "\n",
    "ans -  The os.getcwd() function returns the current working directory.\n",
    "        The os.chdir() function changes the current working directory."
   ]
  },
  {
   "cell_type": "code",
   "execution_count": null,
   "metadata": {},
   "outputs": [],
   "source": [
    "Q6 - What is the difference between the. and.. folders?\n",
    "\n",
    "ans - The . folder is the current folder, and .. is the parent folder."
   ]
  },
  {
   "cell_type": "code",
   "execution_count": null,
   "metadata": {},
   "outputs": [],
   "source": [
    "Q7 - Which part of C:baconeggsspam.txt is the dir name and which part is the base name?\n",
    "\n",
    "ans -C:\\bacon\\eggs is the dir name, while spam.txt is the base name. "
   ]
  },
  {
   "cell_type": "code",
   "execution_count": null,
   "metadata": {},
   "outputs": [],
   "source": [
    "Q8 -  What are the three “mode” arguments that the open() function accepts?\n",
    "\n",
    "ans- The string 'r' for read mode, 'w' for write mode, and 'a' for append mode"
   ]
  },
  {
   "cell_type": "code",
   "execution_count": null,
   "metadata": {},
   "outputs": [],
   "source": [
    "Q9 - What happens if you open existing file in write mode?\n",
    "\n",
    "ans - An existing file opened in write mode is erased and completely overwritten."
   ]
  },
  {
   "cell_type": "code",
   "execution_count": null,
   "metadata": {},
   "outputs": [],
   "source": [
    "Q10 -  How do you tell the difference between read() and readlines()?\n",
    "\n",
    "ans - The read() method returns the file’s entire contents as a single string value. \n",
    "      The readlines() method returns a list of strings, where each string is a line from the file’s contents."
   ]
  },
  {
   "cell_type": "code",
   "execution_count": null,
   "metadata": {},
   "outputs": [],
   "source": [
    "Q11 - How does a shelf value resemble a data structure?\n",
    "\n",
    "ans -  A shelf value resembles a dictionary value; it has keys and values, \n",
    "       along with keys() and values() methods that work similarly  to the dictionary methods of the same names."
   ]
  }
 ],
 "metadata": {
  "kernelspec": {
   "display_name": "Python 3",
   "language": "python",
   "name": "python3"
  },
  "language_info": {
   "codemirror_mode": {
    "name": "ipython",
    "version": 3
   },
   "file_extension": ".py",
   "mimetype": "text/x-python",
   "name": "python",
   "nbconvert_exporter": "python",
   "pygments_lexer": "ipython3",
   "version": "3.8.5"
  }
 },
 "nbformat": 4,
 "nbformat_minor": 4
}
